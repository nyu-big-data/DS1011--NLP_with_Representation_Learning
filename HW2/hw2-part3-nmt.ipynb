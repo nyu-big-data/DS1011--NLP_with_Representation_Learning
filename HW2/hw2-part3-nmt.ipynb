{
 "cells": [
  {
   "cell_type": "markdown",
   "metadata": {},
   "source": [
    "# Fall 2020: DS-GA 1011 NLP with Representation Learning\n",
    "## Homework 2\n",
    "## Part 3: Neural Machine Translation (30 pts)\n",
    "In this part, you implement Transformer encoder for Neural Machine Translation (NMT) using a sequence to sequence (seq2seq) model for English to French translation with PyTorch."
   ]
  },
  {
   "cell_type": "markdown",
   "metadata": {},
   "source": [
    "---\n",
    "### 1 Transformer Encoder (18 pts)"
   ]
  },
  {
   "cell_type": "code",
   "execution_count": 1,
   "metadata": {},
   "outputs": [],
   "source": [
    "# Add utilities path\n",
    "import sys\n",
    "import os\n",
    "\n",
    "path_to_utils = 'pyfiles'\n",
    "sys.path.append(os.path.join(r'/home/long/Desktop/DS1011_hw2', path_to_utils))"
   ]
  },
  {
   "cell_type": "code",
   "execution_count": 2,
   "metadata": {},
   "outputs": [],
   "source": [
    "# Import custom modules\n",
    "import global_variables\n",
    "import nmt_dataset\n",
    "import nnet_models_new\n",
    "\n",
    "PAD_IDX = global_variables.PAD_IDX;\n",
    "SOS_IDX = global_variables.SOS_IDX;\n",
    "EOS_IDX = global_variables.EOS_IDX;"
   ]
  },
  {
   "cell_type": "code",
   "execution_count": 3,
   "metadata": {},
   "outputs": [],
   "source": [
    "# Load data\n",
    "import os\n",
    "\n",
    "source_name = 'en'\n",
    "target_name = 'fr'\n",
    "\n",
    "base_saved_models_dir = r'/home/long/Desktop/DS1011_hw2'\n",
    "saved_models_dir = os.path.join(base_saved_models_dir, source_name+'2'+target_name)\n",
    "\n",
    "main_data_path = '/home/long/Desktop/DS1011_hw2/data/'\n",
    "\n",
    "path_to_train_data = {'source':main_data_path+'train.'+source_name, \n",
    "                      'target':main_data_path+'train.'+target_name}\n",
    "path_to_val_data = {'source': main_data_path+'valid.'+source_name, \n",
    "                      'target':main_data_path+'valid.'+target_name}"
   ]
  },
  {
   "cell_type": "code",
   "execution_count": 4,
   "metadata": {},
   "outputs": [],
   "source": [
    "saved_language_model_dir = os.path.join(saved_models_dir, 'lang_obj')\n",
    "\n",
    "dataset_dict = {'train': nmt_dataset.LanguagePair(source_name = source_name, target_name=target_name, \n",
    "                    filepath = path_to_train_data, \n",
    "                    lang_obj_path = saved_language_model_dir,\n",
    "                     minimum_count = 1), \n",
    "\n",
    "                'val': nmt_dataset.LanguagePair(source_name = source_name, target_name=target_name, \n",
    "                    filepath = path_to_val_data, \n",
    "                    lang_obj_path = saved_language_model_dir,\n",
    "                    minimum_count = 1)}"
   ]
  },
  {
   "cell_type": "code",
   "execution_count": 5,
   "metadata": {},
   "outputs": [],
   "source": [
    "MAX_LEN = int(dataset_dict['train'].main_df['source_len'].quantile(0.9999))\n",
    "batchSize = 128"
   ]
  },
  {
   "cell_type": "code",
   "execution_count": 6,
   "metadata": {},
   "outputs": [],
   "source": [
    "from functools import partial\n",
    "from torch.utils.data import DataLoader\n",
    "\n",
    "dataloader_dict = {'train': DataLoader(dataset_dict['train'], batch_size = batchSize, \n",
    "                            collate_fn = partial(nmt_dataset.vocab_collate_func, MAX_LEN=MAX_LEN),\n",
    "                            shuffle = True, num_workers=0), \n",
    "                    'val': DataLoader(dataset_dict['val'], batch_size = batchSize, \n",
    "                            collate_fn = partial(nmt_dataset.vocab_collate_func, MAX_LEN=MAX_LEN),\n",
    "                            shuffle = True, num_workers=0) }"
   ]
  },
  {
   "cell_type": "code",
   "execution_count": 7,
   "metadata": {},
   "outputs": [],
   "source": [
    "# Configuration\n",
    "source_lang_obj = dataset_dict['train'].source_lang_obj\n",
    "target_lang_obj = dataset_dict['train'].target_lang_obj\n",
    "\n",
    "source_vocab = dataset_dict['train'].source_lang_obj.n_words;\n",
    "target_vocab = dataset_dict['train'].target_lang_obj.n_words;\n",
    "hidden_size = 512\n",
    "enc_layers = 3\n",
    "lr = 0.025;\n",
    "longest_label = 1;\n",
    "gradient_clip = 0.3;\n",
    "use_cuda = True\n",
    "\n",
    "num_epochs = 20"
   ]
  },
  {
   "cell_type": "markdown",
   "metadata": {},
   "source": [
    "#### 1.1 Encoder (9 pts)"
   ]
  },
  {
   "cell_type": "code",
   "execution_count": 49,
   "metadata": {},
   "outputs": [],
   "source": [
    "import torch\n",
    "import torch.nn as nn\n",
    "import torch.nn.functional as F\n",
    "import math\n",
    "from torch.autograd import Variable\n",
    "\n",
    "# Add transformer as encoder in seq2seq model\n",
    "\n",
    "# code below can help you to start it, but feel free to start from scratch\n",
    "\n",
    "class EncoderTransformer(nn.Module):\n",
    "    def __init__(self, vocab_size, max_len=MAX_LEN, dim=512, num_layers=1, nhead=2, dropout=0.0):\n",
    "        super(EncoderTransformer, self).__init__()\n",
    "\n",
    "        self.embedding = nn.Embedding(vocab_size, dim, padding_idx=PAD_IDX)\n",
    "        self.position_embed = PositionalEncoding(max_len, dim,dropout=dropout)# sinusoidal embedding\n",
    "        encoder_layer = nn.TransformerEncoderLayer(d_model=dim, nhead=nhead, dim_feedforward=512, dropout=dropout)\n",
    "        self.transformer = nn.TransformerEncoder(encoder_layer, num_layers=num_layers)\n",
    "        self.norm = Norm(dim)\n",
    "\n",
    "    def features(self, token_indices):\n",
    "        x = self.embedding(token_indices)\n",
    "        x = self.position_embed(x)\n",
    "        x = x.permute(1, 0, 2)\n",
    "        x = self.transformer(x)\n",
    "        return x\n",
    "\n",
    "    def forward(self, text_vec):\n",
    "        # some helpful directions below, check the MLM lab for more details\n",
    "        # embedded = pos_embedded + embedded  # apply pos embedding\n",
    "        # output = self.transformer(embedded)\n",
    "\n",
    "        x = self.features(text_vec)\n",
    "        # x = self.norm(x)\n",
    "        return x.permute(1, 0, 2), x[-1].unsqueeze(0).contiguous()\n",
    "\n",
    "# Reference: https://pytorch.org/tutorials/beginner/transformer_tutorial.html\n",
    "class PositionalEncoding(nn.Module):\n",
    "\n",
    "    def __init__(self, max_len, dim, dropout=0.0):\n",
    "        super(PositionalEncoding, self).__init__()\n",
    "        self.dropout = nn.Dropout(p=dropout)\n",
    "        pe = torch.zeros(max_len, dim)\n",
    "        position = torch.arange(0., max_len).unsqueeze(1)\n",
    "        div_term = torch.exp(torch.arange(0, dim, 2).float() * (-math.log(10000.0) / dim))\n",
    "        pe[:, 0::2] = torch.sin(position * div_term)\n",
    "        pe[:, 1::2] = torch.cos(position * div_term)\n",
    "        pe = pe.unsqueeze(0).transpose(0, 1)\n",
    "        self.register_buffer('pe', pe)\n",
    "\n",
    "    def forward(self, x):\n",
    "        self.pe = self.pe.squeeze(1)\n",
    "        x = x + self.pe[:x.size(1), :]\n",
    "        return self.dropout(x)\n",
    "\n",
    "\n",
    "class Norm(nn.Module):\n",
    "    def __init__(self, d_model, eps = 1e-6):\n",
    "        super().__init__()\n",
    "\n",
    "        self.size = d_model\n",
    "        # create two learnable parameters to calibrate normalisation\n",
    "        self.alpha = nn.Parameter(torch.ones(self.size))\n",
    "        self.bias = nn.Parameter(torch.zeros(self.size))\n",
    "        self.eps = eps\n",
    "    def forward(self, x):\n",
    "        norm = self.alpha * (x - x.mean(dim=-1, keepdim=True)) \\\n",
    "        / (x.std(dim=-1, keepdim=True) + self.eps) + self.bias\n",
    "        return norm"
   ]
  },
  {
   "cell_type": "markdown",
   "metadata": {},
   "source": [
    "#### 1.2 Decoder(s) (9 pts) Commented out for easier training reset. Codes are identical."
   ]
  },
  {
   "cell_type": "code",
   "execution_count": 144,
   "metadata": {},
   "outputs": [],
   "source": [
    "# Basic RNN decoder (no attention)\n",
    "# decoder_rnn_base = nnet_models_new.DecoderRNN(target_vocab, hidden_size, enc_layers)"
   ]
  },
  {
   "cell_type": "code",
   "execution_count": 145,
   "metadata": {},
   "outputs": [],
   "source": [
    "# RNN Decoder with Encoder attention\n",
    "# decoder_encoder_attn = nnet_models_new.Decoder_SelfAttn(output_size=target_vocab,\n",
    "#                                  hidden_size=hidden_size,\n",
    "#                                  encoder_attention = True,\n",
    "#                                  self_attention = False)"
   ]
  },
  {
   "cell_type": "code",
   "execution_count": 146,
   "metadata": {},
   "outputs": [],
   "source": [
    "# RNN Decoder with Encoder & Self attention\n",
    "# decoder_encoder_self_attn = nnet_models_new.Decoder_SelfAttn(output_size=target_vocab,\n",
    "#                                  hidden_size=hidden_size,\n",
    "#                                  encoder_attention = True,\n",
    "#                                  self_attention = True)"
   ]
  },
  {
   "cell_type": "markdown",
   "metadata": {},
   "source": [
    "#### Training & Evaluation\n"
   ]
  },
  {
   "cell_type": "code",
   "execution_count": 50,
   "outputs": [],
   "source": [
    "import time\n",
    "from tqdm import notebook\n",
    "from collections import defaultdict\n",
    "import pickle\n",
    "\n",
    "def get_full_filepath(path, enc_type):\n",
    "    filename = 'nmt_enc_'+enc_type+'_dec_rnn.pth'\n",
    "    return os.path.join(path, filename)\n",
    "\n",
    "def save_models(nmt_model, path, enc_type):\n",
    "    if not os.path.exists(path):\n",
    "            os.makedirs(path)\n",
    "    filename = 'nmt_enc_'+enc_type+'_dec_rnn.pth'\n",
    "    torch.save(nmt_model, os.path.join(path, filename))\n",
    "\n",
    "def save_param(params, path, enc_type):\n",
    "    if not os.path.exists(path):\n",
    "            os.makedirs(path)\n",
    "    filename = 'nmt_enc_'+enc_type+'_dec_rnn_params.pth'\n",
    "    with open(os.path.join(path, filename), 'wb') as f:\n",
    "        pickle.dump(params, f)\n",
    "\n",
    "def train_model(dataloader, nmt, num_epochs=50, val_every=1, saved_model_path = '.', enc_type ='rnn'):\n",
    "    res = defaultdict(list)\n",
    "    res['train_loss'] = list()\n",
    "    # res['train_bleu'] = list()\n",
    "    res['test_bleu'] = list()\n",
    "\n",
    "    best_bleu = -1;\n",
    "    for epoch in range(num_epochs):\n",
    "\n",
    "        start = time.time()\n",
    "        running_loss = 0\n",
    "\n",
    "        print('Epoch: [{}/{}]'.format(epoch, num_epochs));\n",
    "\n",
    "        for i, data in notebook.tqdm(enumerate(dataloader['train']), total=len(dataloader['train'])):\n",
    "            _, curr_loss = nmt.train_step(data);\n",
    "            running_loss += curr_loss\n",
    "\n",
    "        epoch_loss = running_loss / len(dataloader['train'])\n",
    "\n",
    "        print(\"epoch {} loss = {}, time = {}\".format(epoch, epoch_loss,\n",
    "                                                        time.time() - start))\n",
    "        # self.criterion(scores, ys.view(-1))\n",
    "\n",
    "        res['train_loss'].append(epoch_loss)\n",
    "\n",
    "        sys.stdout.flush()\n",
    "\n",
    "        if epoch%val_every == 0:\n",
    "            val_bleu_score = nmt.get_bleu_score(dataloader['val']);\n",
    "            print('validation bleu: ', val_bleu_score)\n",
    "            sys.stdout.flush()\n",
    "\n",
    "            nmt.scheduler_step(val_bleu_score);\n",
    "\n",
    "            if val_bleu_score > best_bleu:\n",
    "                best_bleu = val_bleu_score\n",
    "                save_models(nmt, saved_model_path, enc_type);\n",
    "            # train_bleu = nmt.get_bleu_score(dataloader['train'])\n",
    "            # print(train_bleu)\n",
    "            # res['train_bleu'].append(train_bleu)\n",
    "            res['test_bleu'].append(val_bleu_score)\n",
    "            save_param(res, saved_model_path, enc_type)\n",
    "\n",
    "        print('='*50)\n",
    "\n",
    "    print(\"Training completed. Best BLEU is {}\".format(best_bleu))"
   ],
   "metadata": {
    "collapsed": false,
    "pycharm": {
     "name": "#%%\n"
    }
   }
  },
  {
   "cell_type": "code",
   "execution_count": 51,
   "outputs": [
    {
     "name": "stdout",
     "output_type": "stream",
     "text": [
      "Epoch: [0/20]\n",
      "\n",
      "epoch 0 loss = 2.1718703562503108, time = 196.36634826660156\n",
      "validation bleu:  2.034305950015089\n",
      "==================================================\n",
      "Epoch: [1/20]\n",
      "\n",
      "epoch 1 loss = 1.4604030185495631, time = 188.0624942779541\n",
      "validation bleu:  6.83414400853248\n",
      "==================================================\n",
      "Epoch: [2/20]\n",
      "\n",
      "epoch 2 loss = 1.2035723732555428, time = 187.33895635604858\n",
      "validation bleu:  12.252209934135191\n",
      "==================================================\n",
      "Epoch: [3/20]\n",
      "\n",
      "epoch 3 loss = 1.0199825368318314, time = 187.8161690235138\n",
      "validation bleu:  15.869841391025961\n",
      "==================================================\n",
      "Epoch: [4/20]\n",
      "\n",
      "epoch 4 loss = 0.885952390639621, time = 187.09627676010132\n",
      "validation bleu:  18.538282864878212\n",
      "==================================================\n",
      "Epoch: [5/20]\n",
      "\n",
      "epoch 5 loss = 0.7929514325074315, time = 187.56712555885315\n",
      "validation bleu:  19.896717010969965\n",
      "==================================================\n",
      "Epoch: [6/20]\n",
      "\n",
      "epoch 6 loss = 0.7145016037942563, time = 188.66655325889587\n",
      "validation bleu:  21.416720891214748\n",
      "==================================================\n",
      "Epoch: [7/20]\n",
      "\n",
      "epoch 7 loss = 0.6547850931799689, time = 188.72741985321045\n",
      "validation bleu:  22.27402436058214\n",
      "==================================================\n",
      "Epoch: [8/20]\n",
      "\n",
      "epoch 8 loss = 0.599547107354351, time = 190.96555042266846\n",
      "validation bleu:  23.54888449614395\n",
      "==================================================\n",
      "Epoch: [9/20]\n",
      "\n",
      "epoch 9 loss = 0.552978555955496, time = 200.5187165737152\n",
      "validation bleu:  24.140899736905382\n",
      "==================================================\n",
      "Epoch: [10/20]\n",
      "\n",
      "epoch 10 loss = 0.5156685180904329, time = 199.81575536727905\n",
      "validation bleu:  24.689384206135234\n",
      "==================================================\n",
      "Epoch: [11/20]\n",
      "\n",
      "epoch 11 loss = 0.48119301867907494, time = 197.8109757900238\n",
      "validation bleu:  24.53924842297975\n",
      "Epoch    12: reducing learning rate of group 0 to 2.5000e-03.\n",
      "==================================================\n",
      "Epoch: [12/20]\n",
      "\n",
      "epoch 12 loss = 0.38493184383921447, time = 191.1838619709015\n",
      "validation bleu:  29.000771478749236\n",
      "==================================================\n",
      "Epoch: [13/20]\n",
      "\n",
      "epoch 13 loss = 0.3588697813443039, time = 190.80482721328735\n",
      "validation bleu:  29.249065200348472\n",
      "==================================================\n",
      "Epoch: [14/20]\n",
      "\n",
      "epoch 14 loss = 0.34664014316806496, time = 187.6100733280182\n",
      "validation bleu:  29.32532175786618\n",
      "==================================================\n",
      "Epoch: [15/20]\n",
      "\n",
      "epoch 15 loss = 0.3399952476965893, time = 187.5686445236206\n",
      "validation bleu:  29.41747947526359\n",
      "==================================================\n",
      "Epoch: [16/20]\n",
      "\n",
      "epoch 16 loss = 0.3311943557868368, time = 187.67520141601562\n",
      "validation bleu:  29.57446020071632\n",
      "==================================================\n",
      "Epoch: [17/20]\n",
      "\n",
      "epoch 17 loss = 0.32556617515757763, time = 187.48620200157166\n",
      "validation bleu:  29.518857105533314\n",
      "Epoch    18: reducing learning rate of group 0 to 2.5000e-04.\n",
      "==================================================\n",
      "Epoch: [18/20]\n",
      "\n",
      "epoch 18 loss = 0.3097471090349248, time = 186.94120049476624\n",
      "validation bleu:  29.704322337736475\n",
      "==================================================\n",
      "Epoch: [19/20]\n",
      "\n",
      "epoch 19 loss = 0.3087663680381025, time = 186.44958090782166\n",
      "validation bleu:  29.845404153895785\n",
      "==================================================\n",
      "Training completed. Best BLEU is 29.845404153895785\n"
     ]
    },
    {
     "data": {
      "text/plain": "HBox(children=(HTML(value=''), FloatProgress(value=0.0, max=903.0), HTML(value='')))",
      "application/vnd.jupyter.widget-view+json": {
       "version_major": 2,
       "version_minor": 0,
       "model_id": "673d328f544748dc88814f89b85209b2"
      }
     },
     "metadata": {},
     "output_type": "display_data"
    },
    {
     "data": {
      "text/plain": "HBox(children=(HTML(value=''), FloatProgress(value=0.0, max=903.0), HTML(value='')))",
      "application/vnd.jupyter.widget-view+json": {
       "version_major": 2,
       "version_minor": 0,
       "model_id": "0201f9e5307d432dad97abd1c67e8c47"
      }
     },
     "metadata": {},
     "output_type": "display_data"
    },
    {
     "data": {
      "text/plain": "HBox(children=(HTML(value=''), FloatProgress(value=0.0, max=903.0), HTML(value='')))",
      "application/vnd.jupyter.widget-view+json": {
       "version_major": 2,
       "version_minor": 0,
       "model_id": "66f0008980774271bf52d65fa3aef3e4"
      }
     },
     "metadata": {},
     "output_type": "display_data"
    },
    {
     "data": {
      "text/plain": "HBox(children=(HTML(value=''), FloatProgress(value=0.0, max=903.0), HTML(value='')))",
      "application/vnd.jupyter.widget-view+json": {
       "version_major": 2,
       "version_minor": 0,
       "model_id": "5a17cec379a040d69ab9502802941a74"
      }
     },
     "metadata": {},
     "output_type": "display_data"
    },
    {
     "data": {
      "text/plain": "HBox(children=(HTML(value=''), FloatProgress(value=0.0, max=903.0), HTML(value='')))",
      "application/vnd.jupyter.widget-view+json": {
       "version_major": 2,
       "version_minor": 0,
       "model_id": "6d20bb91402745f2bcf78bc7310d0076"
      }
     },
     "metadata": {},
     "output_type": "display_data"
    },
    {
     "data": {
      "text/plain": "HBox(children=(HTML(value=''), FloatProgress(value=0.0, max=903.0), HTML(value='')))",
      "application/vnd.jupyter.widget-view+json": {
       "version_major": 2,
       "version_minor": 0,
       "model_id": "fdaf0806e1654845b37c2ed8f900e13c"
      }
     },
     "metadata": {},
     "output_type": "display_data"
    },
    {
     "data": {
      "text/plain": "HBox(children=(HTML(value=''), FloatProgress(value=0.0, max=903.0), HTML(value='')))",
      "application/vnd.jupyter.widget-view+json": {
       "version_major": 2,
       "version_minor": 0,
       "model_id": "b7c02d9eb0554759b0810d690a0058f9"
      }
     },
     "metadata": {},
     "output_type": "display_data"
    },
    {
     "data": {
      "text/plain": "HBox(children=(HTML(value=''), FloatProgress(value=0.0, max=903.0), HTML(value='')))",
      "application/vnd.jupyter.widget-view+json": {
       "version_major": 2,
       "version_minor": 0,
       "model_id": "6f0a9a95dd204fe588927cb55b331704"
      }
     },
     "metadata": {},
     "output_type": "display_data"
    },
    {
     "data": {
      "text/plain": "HBox(children=(HTML(value=''), FloatProgress(value=0.0, max=903.0), HTML(value='')))",
      "application/vnd.jupyter.widget-view+json": {
       "version_major": 2,
       "version_minor": 0,
       "model_id": "c741adfb50824db0a5b0b1659e1e0155"
      }
     },
     "metadata": {},
     "output_type": "display_data"
    },
    {
     "data": {
      "text/plain": "HBox(children=(HTML(value=''), FloatProgress(value=0.0, max=903.0), HTML(value='')))",
      "application/vnd.jupyter.widget-view+json": {
       "version_major": 2,
       "version_minor": 0,
       "model_id": "7a4285bdc33c4e81ab95a30cf1f75be9"
      }
     },
     "metadata": {},
     "output_type": "display_data"
    },
    {
     "data": {
      "text/plain": "HBox(children=(HTML(value=''), FloatProgress(value=0.0, max=903.0), HTML(value='')))",
      "application/vnd.jupyter.widget-view+json": {
       "version_major": 2,
       "version_minor": 0,
       "model_id": "6afa5cb894724f2e9983da7d15837e23"
      }
     },
     "metadata": {},
     "output_type": "display_data"
    },
    {
     "data": {
      "text/plain": "HBox(children=(HTML(value=''), FloatProgress(value=0.0, max=903.0), HTML(value='')))",
      "application/vnd.jupyter.widget-view+json": {
       "version_major": 2,
       "version_minor": 0,
       "model_id": "3313af58879644b58e8d9425e1c83969"
      }
     },
     "metadata": {},
     "output_type": "display_data"
    },
    {
     "data": {
      "text/plain": "HBox(children=(HTML(value=''), FloatProgress(value=0.0, max=903.0), HTML(value='')))",
      "application/vnd.jupyter.widget-view+json": {
       "version_major": 2,
       "version_minor": 0,
       "model_id": "cb549bccaa61412e99966b28aa4dd105"
      }
     },
     "metadata": {},
     "output_type": "display_data"
    },
    {
     "data": {
      "text/plain": "HBox(children=(HTML(value=''), FloatProgress(value=0.0, max=903.0), HTML(value='')))",
      "application/vnd.jupyter.widget-view+json": {
       "version_major": 2,
       "version_minor": 0,
       "model_id": "8e3c486945d04867947566f8a257e8c5"
      }
     },
     "metadata": {},
     "output_type": "display_data"
    },
    {
     "data": {
      "text/plain": "HBox(children=(HTML(value=''), FloatProgress(value=0.0, max=903.0), HTML(value='')))",
      "application/vnd.jupyter.widget-view+json": {
       "version_major": 2,
       "version_minor": 0,
       "model_id": "26a1112c849d4496b7bd0dbe4de03a18"
      }
     },
     "metadata": {},
     "output_type": "display_data"
    },
    {
     "data": {
      "text/plain": "HBox(children=(HTML(value=''), FloatProgress(value=0.0, max=903.0), HTML(value='')))",
      "application/vnd.jupyter.widget-view+json": {
       "version_major": 2,
       "version_minor": 0,
       "model_id": "add10256690b4754912e29bf671192e0"
      }
     },
     "metadata": {},
     "output_type": "display_data"
    },
    {
     "data": {
      "text/plain": "HBox(children=(HTML(value=''), FloatProgress(value=0.0, max=903.0), HTML(value='')))",
      "application/vnd.jupyter.widget-view+json": {
       "version_major": 2,
       "version_minor": 0,
       "model_id": "18180a1505b7423a9778ae24c4e9e266"
      }
     },
     "metadata": {},
     "output_type": "display_data"
    },
    {
     "data": {
      "text/plain": "HBox(children=(HTML(value=''), FloatProgress(value=0.0, max=903.0), HTML(value='')))",
      "application/vnd.jupyter.widget-view+json": {
       "version_major": 2,
       "version_minor": 0,
       "model_id": "364b0822164245b7a410e965bdf930ff"
      }
     },
     "metadata": {},
     "output_type": "display_data"
    },
    {
     "data": {
      "text/plain": "HBox(children=(HTML(value=''), FloatProgress(value=0.0, max=903.0), HTML(value='')))",
      "application/vnd.jupyter.widget-view+json": {
       "version_major": 2,
       "version_minor": 0,
       "model_id": "a7b6c8795fb5479a93440a750a4814cd"
      }
     },
     "metadata": {},
     "output_type": "display_data"
    },
    {
     "data": {
      "text/plain": "HBox(children=(HTML(value=''), FloatProgress(value=0.0, max=903.0), HTML(value='')))",
      "application/vnd.jupyter.widget-view+json": {
       "version_major": 2,
       "version_minor": 0,
       "model_id": "306e27b2fc7846e8af8e47f42d2f843b"
      }
     },
     "metadata": {},
     "output_type": "display_data"
    }
   ],
   "source": [
    "# Model 1\n",
    "\n",
    "encoder = EncoderTransformer(vocab_size=source_vocab,\n",
    "                             dim=hidden_size,\n",
    "                             num_layers=1,\n",
    "                             dropout=0.0)\n",
    "\n",
    "decoder_rnn_base = nnet_models_new.DecoderRNN(target_vocab, hidden_size, 1)\n",
    "\n",
    "nmt_encoder_base = nnet_models_new.seq2seq(encoder, decoder_rnn_base,\n",
    "                              lr = lr,\n",
    "                              use_cuda = use_cuda,\n",
    "                              hiddensize = hidden_size,\n",
    "                              numlayers = hidden_size,\n",
    "                              target_lang=dataset_dict['train'].target_lang_obj,\n",
    "                              longest_label = longest_label,\n",
    "                              clip = gradient_clip)\n",
    "\n",
    "train_model(dataloader_dict, nmt_encoder_base,\n",
    "                  num_epochs = num_epochs,\n",
    "                  saved_model_path = saved_models_dir,\n",
    "                  enc_type = 'rnn_base')"
   ],
   "metadata": {
    "collapsed": false,
    "pycharm": {
     "name": "#%%\n"
    }
   }
  },
  {
   "cell_type": "code",
   "execution_count": 18,
   "outputs": [
    {
     "name": "stdout",
     "output_type": "stream",
     "text": [
      "Epoch: [0/20]\n",
      "\n",
      "epoch 0 loss = 2.217679965403653, time = 340.60895347595215\n",
      "validation bleu:  4.1655200996145325\n",
      "==================================================\n",
      "Epoch: [1/20]\n",
      "\n",
      "epoch 1 loss = 1.4310905520834136, time = 356.15379095077515\n",
      "validation bleu:  11.729852987691558\n",
      "==================================================\n",
      "Epoch: [2/20]\n",
      "\n",
      "epoch 2 loss = 1.2060993977823395, time = 384.75046372413635\n",
      "validation bleu:  16.135825111325182\n",
      "==================================================\n",
      "Epoch: [3/20]\n",
      "\n",
      "epoch 3 loss = 1.0826571330279606, time = 376.7724459171295\n",
      "validation bleu:  19.142815754944046\n",
      "==================================================\n",
      "Epoch: [4/20]\n",
      "\n",
      "epoch 4 loss = 0.9978557060723289, time = 338.7891435623169\n",
      "validation bleu:  21.65495906349584\n",
      "==================================================\n",
      "Epoch: [5/20]\n",
      "\n",
      "epoch 5 loss = 0.9380865312229887, time = 337.55385875701904\n",
      "validation bleu:  23.275839004964265\n",
      "==================================================\n",
      "Epoch: [6/20]\n",
      "\n",
      "epoch 6 loss = 0.8863349064508018, time = 336.7770059108734\n",
      "validation bleu:  24.024850637786752\n",
      "==================================================\n",
      "Epoch: [7/20]\n",
      "\n",
      "epoch 7 loss = 0.8476780474119936, time = 336.73713850975037\n",
      "validation bleu:  25.665798864594507\n",
      "==================================================\n",
      "Epoch: [8/20]\n",
      "\n",
      "epoch 8 loss = 0.8137299418449402, time = 336.64025807380676\n",
      "validation bleu:  26.469712390780018\n",
      "==================================================\n",
      "Epoch: [9/20]\n",
      "\n",
      "epoch 9 loss = 0.7880237198549251, time = 337.6729197502136\n",
      "validation bleu:  26.73680656247942\n",
      "==================================================\n",
      "Epoch: [10/20]\n",
      "\n",
      "epoch 10 loss = 0.7594351975096685, time = 336.87769651412964\n",
      "validation bleu:  27.518197161950035\n",
      "==================================================\n",
      "Epoch: [11/20]\n",
      "\n",
      "epoch 11 loss = 0.7334743575136263, time = 338.33520221710205\n",
      "validation bleu:  28.105154586510675\n",
      "==================================================\n",
      "Epoch: [12/20]\n",
      "\n",
      "epoch 12 loss = 0.7120211396040447, time = 338.09214973449707\n",
      "validation bleu:  28.695978773373504\n",
      "==================================================\n",
      "Epoch: [13/20]\n",
      "\n",
      "epoch 13 loss = 0.6900648966118083, time = 337.29517436027527\n",
      "validation bleu:  29.284526873605753\n",
      "==================================================\n",
      "Epoch: [14/20]\n",
      "\n",
      "epoch 14 loss = 0.6758923073147618, time = 338.4557111263275\n",
      "validation bleu:  29.60519362561761\n",
      "==================================================\n",
      "Epoch: [15/20]\n",
      "\n",
      "epoch 15 loss = 0.6609355225779553, time = 338.2034773826599\n",
      "validation bleu:  30.37608229508751\n",
      "==================================================\n",
      "Epoch: [16/20]\n",
      "\n",
      "epoch 16 loss = 0.6450889804302524, time = 338.1328866481781\n",
      "validation bleu:  29.952754182755932\n",
      "Epoch    17: reducing learning rate of group 0 to 2.5000e-03.\n",
      "==================================================\n",
      "Epoch: [17/20]\n",
      "\n",
      "epoch 17 loss = 0.5892953795782091, time = 336.3623843193054\n",
      "validation bleu:  32.56846856129762\n",
      "==================================================\n",
      "Epoch: [18/20]\n",
      "\n",
      "epoch 18 loss = 0.5631752629678775, time = 337.16066789627075\n",
      "validation bleu:  33.32021536036918\n",
      "==================================================\n",
      "Epoch: [19/20]\n",
      "\n",
      "epoch 19 loss = 0.5498878383557266, time = 336.6987090110779\n",
      "validation bleu:  33.99090746069565\n",
      "==================================================\n",
      "Training completed. Best BLEU is 33.99090746069565\n"
     ]
    },
    {
     "data": {
      "text/plain": "HBox(children=(HTML(value=''), FloatProgress(value=0.0, max=903.0), HTML(value='')))",
      "application/vnd.jupyter.widget-view+json": {
       "version_major": 2,
       "version_minor": 0,
       "model_id": "17d25066fa4c4491afc8b7ea6143f3d7"
      }
     },
     "metadata": {},
     "output_type": "display_data"
    },
    {
     "data": {
      "text/plain": "HBox(children=(HTML(value=''), FloatProgress(value=0.0, max=903.0), HTML(value='')))",
      "application/vnd.jupyter.widget-view+json": {
       "version_major": 2,
       "version_minor": 0,
       "model_id": "63ffa1795ec24691b649d97e0847e7c3"
      }
     },
     "metadata": {},
     "output_type": "display_data"
    },
    {
     "data": {
      "text/plain": "HBox(children=(HTML(value=''), FloatProgress(value=0.0, max=903.0), HTML(value='')))",
      "application/vnd.jupyter.widget-view+json": {
       "version_major": 2,
       "version_minor": 0,
       "model_id": "2134c4dc2dac49459512419ee41f5970"
      }
     },
     "metadata": {},
     "output_type": "display_data"
    },
    {
     "data": {
      "text/plain": "HBox(children=(HTML(value=''), FloatProgress(value=0.0, max=903.0), HTML(value='')))",
      "application/vnd.jupyter.widget-view+json": {
       "version_major": 2,
       "version_minor": 0,
       "model_id": "c3476494808e4bf1848345aa9f2906b3"
      }
     },
     "metadata": {},
     "output_type": "display_data"
    },
    {
     "data": {
      "text/plain": "HBox(children=(HTML(value=''), FloatProgress(value=0.0, max=903.0), HTML(value='')))",
      "application/vnd.jupyter.widget-view+json": {
       "version_major": 2,
       "version_minor": 0,
       "model_id": "b041907413154340b3308bb1a551eaf4"
      }
     },
     "metadata": {},
     "output_type": "display_data"
    },
    {
     "data": {
      "text/plain": "HBox(children=(HTML(value=''), FloatProgress(value=0.0, max=903.0), HTML(value='')))",
      "application/vnd.jupyter.widget-view+json": {
       "version_major": 2,
       "version_minor": 0,
       "model_id": "2125abbeae7647d794327495abe246d7"
      }
     },
     "metadata": {},
     "output_type": "display_data"
    },
    {
     "data": {
      "text/plain": "HBox(children=(HTML(value=''), FloatProgress(value=0.0, max=903.0), HTML(value='')))",
      "application/vnd.jupyter.widget-view+json": {
       "version_major": 2,
       "version_minor": 0,
       "model_id": "9fa3df7b774247bbbedf5ea42c284ebd"
      }
     },
     "metadata": {},
     "output_type": "display_data"
    },
    {
     "data": {
      "text/plain": "HBox(children=(HTML(value=''), FloatProgress(value=0.0, max=903.0), HTML(value='')))",
      "application/vnd.jupyter.widget-view+json": {
       "version_major": 2,
       "version_minor": 0,
       "model_id": "7ed6ae20694f4f4baa8fa94a8eed3bbe"
      }
     },
     "metadata": {},
     "output_type": "display_data"
    },
    {
     "data": {
      "text/plain": "HBox(children=(HTML(value=''), FloatProgress(value=0.0, max=903.0), HTML(value='')))",
      "application/vnd.jupyter.widget-view+json": {
       "version_major": 2,
       "version_minor": 0,
       "model_id": "5f7f3858539c43b19c7a46bf27a74569"
      }
     },
     "metadata": {},
     "output_type": "display_data"
    },
    {
     "data": {
      "text/plain": "HBox(children=(HTML(value=''), FloatProgress(value=0.0, max=903.0), HTML(value='')))",
      "application/vnd.jupyter.widget-view+json": {
       "version_major": 2,
       "version_minor": 0,
       "model_id": "04644cedc5204f94a8b0a7830ca2d562"
      }
     },
     "metadata": {},
     "output_type": "display_data"
    },
    {
     "data": {
      "text/plain": "HBox(children=(HTML(value=''), FloatProgress(value=0.0, max=903.0), HTML(value='')))",
      "application/vnd.jupyter.widget-view+json": {
       "version_major": 2,
       "version_minor": 0,
       "model_id": "1096ffc5306d48289816385f9b07e36d"
      }
     },
     "metadata": {},
     "output_type": "display_data"
    },
    {
     "data": {
      "text/plain": "HBox(children=(HTML(value=''), FloatProgress(value=0.0, max=903.0), HTML(value='')))",
      "application/vnd.jupyter.widget-view+json": {
       "version_major": 2,
       "version_minor": 0,
       "model_id": "3acc159150c74b6ea989e4b3c57f741c"
      }
     },
     "metadata": {},
     "output_type": "display_data"
    },
    {
     "data": {
      "text/plain": "HBox(children=(HTML(value=''), FloatProgress(value=0.0, max=903.0), HTML(value='')))",
      "application/vnd.jupyter.widget-view+json": {
       "version_major": 2,
       "version_minor": 0,
       "model_id": "05a1105c578f415cbf926b2f17f1e9ae"
      }
     },
     "metadata": {},
     "output_type": "display_data"
    },
    {
     "data": {
      "text/plain": "HBox(children=(HTML(value=''), FloatProgress(value=0.0, max=903.0), HTML(value='')))",
      "application/vnd.jupyter.widget-view+json": {
       "version_major": 2,
       "version_minor": 0,
       "model_id": "788e5df4189142af8c3965d01fbbf238"
      }
     },
     "metadata": {},
     "output_type": "display_data"
    },
    {
     "data": {
      "text/plain": "HBox(children=(HTML(value=''), FloatProgress(value=0.0, max=903.0), HTML(value='')))",
      "application/vnd.jupyter.widget-view+json": {
       "version_major": 2,
       "version_minor": 0,
       "model_id": "1640693b4a9a4a079842f6cefd58ce89"
      }
     },
     "metadata": {},
     "output_type": "display_data"
    },
    {
     "data": {
      "text/plain": "HBox(children=(HTML(value=''), FloatProgress(value=0.0, max=903.0), HTML(value='')))",
      "application/vnd.jupyter.widget-view+json": {
       "version_major": 2,
       "version_minor": 0,
       "model_id": "2d28017824bd46d184ed23d6f85aff4c"
      }
     },
     "metadata": {},
     "output_type": "display_data"
    },
    {
     "data": {
      "text/plain": "HBox(children=(HTML(value=''), FloatProgress(value=0.0, max=903.0), HTML(value='')))",
      "application/vnd.jupyter.widget-view+json": {
       "version_major": 2,
       "version_minor": 0,
       "model_id": "9acb08b783184f50b2a892fb6c8fbfc8"
      }
     },
     "metadata": {},
     "output_type": "display_data"
    },
    {
     "data": {
      "text/plain": "HBox(children=(HTML(value=''), FloatProgress(value=0.0, max=903.0), HTML(value='')))",
      "application/vnd.jupyter.widget-view+json": {
       "version_major": 2,
       "version_minor": 0,
       "model_id": "84cb2b9b03fd4f67a54df78c45f6f3e1"
      }
     },
     "metadata": {},
     "output_type": "display_data"
    },
    {
     "data": {
      "text/plain": "HBox(children=(HTML(value=''), FloatProgress(value=0.0, max=903.0), HTML(value='')))",
      "application/vnd.jupyter.widget-view+json": {
       "version_major": 2,
       "version_minor": 0,
       "model_id": "e44ea7f8379045a3b791d61f4f74df4b"
      }
     },
     "metadata": {},
     "output_type": "display_data"
    },
    {
     "data": {
      "text/plain": "HBox(children=(HTML(value=''), FloatProgress(value=0.0, max=903.0), HTML(value='')))",
      "application/vnd.jupyter.widget-view+json": {
       "version_major": 2,
       "version_minor": 0,
       "model_id": "6a59cf8fff814155a7ce91b04724f48e"
      }
     },
     "metadata": {},
     "output_type": "display_data"
    }
   ],
   "source": [
    "# Model 2\n",
    "if False:\n",
    "    encoder = EncoderTransformer(vocab_size=source_vocab,\n",
    "                                 dim=hidden_size,\n",
    "                                 num_layers=enc_layers,\n",
    "                                 dropout=0.2)\n",
    "\n",
    "    decoder_encoder_attn = nnet_models_new.Decoder_SelfAttn(output_size=target_vocab,\n",
    "                                     hidden_size=hidden_size,\n",
    "                                     encoder_attention = True,\n",
    "                                     self_attention = False)\n",
    "\n",
    "    nmt_encoder_attn = nnet_models_new.seq2seq(encoder, decoder_encoder_attn,\n",
    "                                  lr = lr,\n",
    "                                  use_cuda = use_cuda,\n",
    "                                  hiddensize = hidden_size,\n",
    "                                  numlayers = hidden_size,\n",
    "                                  target_lang=dataset_dict['train'].target_lang_obj,\n",
    "                                  longest_label = longest_label,\n",
    "                                  clip = gradient_clip)\n",
    "\n",
    "    train_model(dataloader_dict, nmt_encoder_attn,\n",
    "                      num_epochs = num_epochs,\n",
    "                      saved_model_path = saved_models_dir,\n",
    "                      enc_type = 'rnn_enc_attn')"
   ],
   "metadata": {
    "collapsed": false,
    "pycharm": {
     "name": "#%%\n"
    }
   }
  },
  {
   "cell_type": "code",
   "execution_count": 148,
   "outputs": [
    {
     "name": "stdout",
     "output_type": "stream",
     "text": [
      "Epoch: [0/30]\n",
      "\n",
      "epoch 0 loss = 2.264548347241855, time = 359.1746940612793\n",
      "validation bleu:  0.8652406895415017\n",
      "==================================================\n",
      "Epoch: [1/30]\n",
      "\n",
      "epoch 1 loss = 1.555189271767934, time = 365.01192831993103\n",
      "validation bleu:  8.57213496907532\n",
      "==================================================\n",
      "Epoch: [2/30]\n",
      "\n",
      "epoch 2 loss = 1.2641877891745414, time = 347.5847837924957\n",
      "validation bleu:  14.670874542369578\n",
      "==================================================\n",
      "Epoch: [3/30]\n",
      "\n",
      "epoch 3 loss = 1.125463708030557, time = 353.43466210365295\n",
      "validation bleu:  17.556752251477878\n",
      "==================================================\n",
      "Epoch: [4/30]\n",
      "\n",
      "epoch 4 loss = 1.0389911518540493, time = 371.1988022327423\n",
      "validation bleu:  19.97868527203525\n",
      "==================================================\n",
      "Epoch: [5/30]\n",
      "\n",
      "epoch 5 loss = 0.9725675977609747, time = 373.96377778053284\n",
      "validation bleu:  22.065236711231027\n",
      "==================================================\n",
      "Epoch: [6/30]\n",
      "\n",
      "epoch 6 loss = 0.9291917672453001, time = 356.344366312027\n",
      "validation bleu:  23.29961642228481\n",
      "==================================================\n",
      "Epoch: [7/30]\n",
      "\n",
      "epoch 7 loss = 0.8854990571836301, time = 344.39176774024963\n",
      "validation bleu:  24.06076019112248\n",
      "==================================================\n",
      "Epoch: [8/30]\n",
      "\n",
      "epoch 8 loss = 0.8546912824592717, time = 352.2975308895111\n",
      "validation bleu:  24.537408970121504\n",
      "==================================================\n",
      "Epoch: [9/30]\n",
      "\n",
      "epoch 9 loss = 0.8255772303505198, time = 345.4894256591797\n",
      "validation bleu:  26.500158943088163\n",
      "==================================================\n",
      "Epoch: [10/30]\n",
      "\n",
      "epoch 10 loss = 0.7960037395341584, time = 349.64237785339355\n",
      "validation bleu:  26.53023280625986\n",
      "==================================================\n",
      "Epoch: [11/30]\n",
      "\n",
      "epoch 11 loss = 0.7719081126046207, time = 349.85711002349854\n",
      "validation bleu:  27.023804275405407\n",
      "==================================================\n",
      "Epoch: [12/30]\n",
      "\n",
      "epoch 12 loss = 0.7507380486392764, time = 370.63327264785767\n",
      "validation bleu:  27.8739288249427\n",
      "==================================================\n",
      "Epoch: [13/30]\n",
      "\n",
      "epoch 13 loss = 0.7342788976424293, time = 382.9804997444153\n",
      "validation bleu:  27.984361018618525\n",
      "==================================================\n",
      "Epoch: [14/30]\n",
      "\n",
      "epoch 14 loss = 0.7108316836035001, time = 345.1297535896301\n",
      "validation bleu:  28.907250489408035\n",
      "==================================================\n",
      "Epoch: [15/30]\n",
      "\n",
      "epoch 15 loss = 0.698856153889484, time = 345.6005413532257\n",
      "validation bleu:  29.423735513271996\n",
      "==================================================\n",
      "Epoch: [16/30]\n",
      "\n",
      "epoch 16 loss = 0.6810929200643981, time = 343.9896831512451\n",
      "validation bleu:  29.50985711692901\n",
      "==================================================\n",
      "Epoch: [17/30]\n",
      "\n",
      "epoch 17 loss = 0.6680628060964519, time = 345.315749168396\n",
      "validation bleu:  29.205854175731908\n",
      "Epoch    18: reducing learning rate of group 0 to 2.5000e-03.\n",
      "==================================================\n",
      "Epoch: [18/30]\n",
      "\n",
      "epoch 18 loss = 0.6139089084278837, time = 343.3047695159912\n",
      "validation bleu:  32.05808933630659\n",
      "==================================================\n",
      "Epoch: [19/30]\n",
      "\n",
      "epoch 19 loss = 0.5850372269568122, time = 345.2156186103821\n",
      "validation bleu:  32.62997004367388\n",
      "==================================================\n",
      "Epoch: [20/30]\n",
      "\n",
      "epoch 20 loss = 0.5725326446665746, time = 344.2824432849884\n",
      "validation bleu:  33.08080346309264\n",
      "==================================================\n",
      "Epoch: [21/30]\n",
      "\n",
      "epoch 21 loss = 0.5639611766451881, time = 343.0667746067047\n",
      "validation bleu:  33.48783926106444\n",
      "==================================================\n",
      "Epoch: [22/30]\n",
      "\n",
      "epoch 22 loss = 0.5573831182447647, time = 343.3952522277832\n",
      "validation bleu:  33.58867766373485\n",
      "==================================================\n",
      "Epoch: [23/30]\n",
      "\n",
      "epoch 23 loss = 0.5508662784020371, time = 343.51551699638367\n",
      "validation bleu:  34.059612262119934\n",
      "==================================================\n",
      "Epoch: [24/30]\n",
      "\n",
      "epoch 24 loss = 0.5442945078625896, time = 343.9433329105377\n",
      "validation bleu:  34.21307510639296\n",
      "==================================================\n",
      "Epoch: [25/30]\n",
      "\n",
      "epoch 25 loss = 0.5391639967429414, time = 343.40943241119385\n",
      "validation bleu:  34.45314842456329\n",
      "==================================================\n",
      "Epoch: [26/30]\n",
      "\n",
      "epoch 26 loss = 0.5339803408876738, time = 344.2525722980499\n",
      "validation bleu:  34.30743402215654\n",
      "Epoch    27: reducing learning rate of group 0 to 2.5000e-04.\n",
      "==================================================\n",
      "Epoch: [27/30]\n",
      "\n",
      "epoch 27 loss = 0.5280839338123072, time = 343.45077872276306\n",
      "validation bleu:  34.598639750096815\n",
      "==================================================\n",
      "Epoch: [28/30]\n",
      "\n",
      "epoch 28 loss = 0.5276515423459468, time = 342.8792414665222\n",
      "validation bleu:  34.60482114529691\n",
      "==================================================\n",
      "Epoch: [29/30]\n",
      "\n",
      "epoch 29 loss = 0.5255160836682368, time = 344.5635738372803\n",
      "validation bleu:  34.76765338205771\n",
      "==================================================\n",
      "Training completed. Best BLEU is 34.76765338205771\n"
     ]
    },
    {
     "data": {
      "text/plain": "HBox(children=(HTML(value=''), FloatProgress(value=0.0, max=903.0), HTML(value='')))",
      "application/vnd.jupyter.widget-view+json": {
       "version_major": 2,
       "version_minor": 0,
       "model_id": "3f8496bd557c4c5390bd9ccc9cb9727e"
      }
     },
     "metadata": {},
     "output_type": "display_data"
    },
    {
     "data": {
      "text/plain": "HBox(children=(HTML(value=''), FloatProgress(value=0.0, max=903.0), HTML(value='')))",
      "application/vnd.jupyter.widget-view+json": {
       "version_major": 2,
       "version_minor": 0,
       "model_id": "4ceca40f01d04910b088f9fd3a7dc627"
      }
     },
     "metadata": {},
     "output_type": "display_data"
    },
    {
     "data": {
      "text/plain": "HBox(children=(HTML(value=''), FloatProgress(value=0.0, max=903.0), HTML(value='')))",
      "application/vnd.jupyter.widget-view+json": {
       "version_major": 2,
       "version_minor": 0,
       "model_id": "85ca767201ec47e78b4ac2b25b5ed51c"
      }
     },
     "metadata": {},
     "output_type": "display_data"
    },
    {
     "data": {
      "text/plain": "HBox(children=(HTML(value=''), FloatProgress(value=0.0, max=903.0), HTML(value='')))",
      "application/vnd.jupyter.widget-view+json": {
       "version_major": 2,
       "version_minor": 0,
       "model_id": "7eee69ee6fd44649b6942f8ca9ca6128"
      }
     },
     "metadata": {},
     "output_type": "display_data"
    },
    {
     "data": {
      "text/plain": "HBox(children=(HTML(value=''), FloatProgress(value=0.0, max=903.0), HTML(value='')))",
      "application/vnd.jupyter.widget-view+json": {
       "version_major": 2,
       "version_minor": 0,
       "model_id": "7facbe4104bb405598e60666f2b8effa"
      }
     },
     "metadata": {},
     "output_type": "display_data"
    },
    {
     "data": {
      "text/plain": "HBox(children=(HTML(value=''), FloatProgress(value=0.0, max=903.0), HTML(value='')))",
      "application/vnd.jupyter.widget-view+json": {
       "version_major": 2,
       "version_minor": 0,
       "model_id": "8651a3447bd94338b0af4701cc531d58"
      }
     },
     "metadata": {},
     "output_type": "display_data"
    },
    {
     "data": {
      "text/plain": "HBox(children=(HTML(value=''), FloatProgress(value=0.0, max=903.0), HTML(value='')))",
      "application/vnd.jupyter.widget-view+json": {
       "version_major": 2,
       "version_minor": 0,
       "model_id": "25e2a82ec3ca4a9d805c64eb69223e16"
      }
     },
     "metadata": {},
     "output_type": "display_data"
    },
    {
     "data": {
      "text/plain": "HBox(children=(HTML(value=''), FloatProgress(value=0.0, max=903.0), HTML(value='')))",
      "application/vnd.jupyter.widget-view+json": {
       "version_major": 2,
       "version_minor": 0,
       "model_id": "b99be43d50d34bf783f0c6c634cf15dd"
      }
     },
     "metadata": {},
     "output_type": "display_data"
    },
    {
     "data": {
      "text/plain": "HBox(children=(HTML(value=''), FloatProgress(value=0.0, max=903.0), HTML(value='')))",
      "application/vnd.jupyter.widget-view+json": {
       "version_major": 2,
       "version_minor": 0,
       "model_id": "472a718c8fc64961b72c4c44a290783c"
      }
     },
     "metadata": {},
     "output_type": "display_data"
    },
    {
     "data": {
      "text/plain": "HBox(children=(HTML(value=''), FloatProgress(value=0.0, max=903.0), HTML(value='')))",
      "application/vnd.jupyter.widget-view+json": {
       "version_major": 2,
       "version_minor": 0,
       "model_id": "df50c2a20dfd4fffbfe324392068f012"
      }
     },
     "metadata": {},
     "output_type": "display_data"
    },
    {
     "data": {
      "text/plain": "HBox(children=(HTML(value=''), FloatProgress(value=0.0, max=903.0), HTML(value='')))",
      "application/vnd.jupyter.widget-view+json": {
       "version_major": 2,
       "version_minor": 0,
       "model_id": "88776def72a145e1b56ae029e34dbb38"
      }
     },
     "metadata": {},
     "output_type": "display_data"
    },
    {
     "data": {
      "text/plain": "HBox(children=(HTML(value=''), FloatProgress(value=0.0, max=903.0), HTML(value='')))",
      "application/vnd.jupyter.widget-view+json": {
       "version_major": 2,
       "version_minor": 0,
       "model_id": "920757f596e44aa8a016e6032c2844d2"
      }
     },
     "metadata": {},
     "output_type": "display_data"
    },
    {
     "data": {
      "text/plain": "HBox(children=(HTML(value=''), FloatProgress(value=0.0, max=903.0), HTML(value='')))",
      "application/vnd.jupyter.widget-view+json": {
       "version_major": 2,
       "version_minor": 0,
       "model_id": "c2b7c553138f484284ccd3ec70dc740d"
      }
     },
     "metadata": {},
     "output_type": "display_data"
    },
    {
     "data": {
      "text/plain": "HBox(children=(HTML(value=''), FloatProgress(value=0.0, max=903.0), HTML(value='')))",
      "application/vnd.jupyter.widget-view+json": {
       "version_major": 2,
       "version_minor": 0,
       "model_id": "d7a5e84ca17d4ceaad8a63c472e19963"
      }
     },
     "metadata": {},
     "output_type": "display_data"
    },
    {
     "data": {
      "text/plain": "HBox(children=(HTML(value=''), FloatProgress(value=0.0, max=903.0), HTML(value='')))",
      "application/vnd.jupyter.widget-view+json": {
       "version_major": 2,
       "version_minor": 0,
       "model_id": "11125a48011f4b239253d636120e9134"
      }
     },
     "metadata": {},
     "output_type": "display_data"
    },
    {
     "data": {
      "text/plain": "HBox(children=(HTML(value=''), FloatProgress(value=0.0, max=903.0), HTML(value='')))",
      "application/vnd.jupyter.widget-view+json": {
       "version_major": 2,
       "version_minor": 0,
       "model_id": "d0510759556c40b7a8a79662d07b189c"
      }
     },
     "metadata": {},
     "output_type": "display_data"
    },
    {
     "data": {
      "text/plain": "HBox(children=(HTML(value=''), FloatProgress(value=0.0, max=903.0), HTML(value='')))",
      "application/vnd.jupyter.widget-view+json": {
       "version_major": 2,
       "version_minor": 0,
       "model_id": "336eafb0b5054ea58b3d754befa23acd"
      }
     },
     "metadata": {},
     "output_type": "display_data"
    },
    {
     "data": {
      "text/plain": "HBox(children=(HTML(value=''), FloatProgress(value=0.0, max=903.0), HTML(value='')))",
      "application/vnd.jupyter.widget-view+json": {
       "version_major": 2,
       "version_minor": 0,
       "model_id": "d232b61e6a22403dab825ad0848876df"
      }
     },
     "metadata": {},
     "output_type": "display_data"
    },
    {
     "data": {
      "text/plain": "HBox(children=(HTML(value=''), FloatProgress(value=0.0, max=903.0), HTML(value='')))",
      "application/vnd.jupyter.widget-view+json": {
       "version_major": 2,
       "version_minor": 0,
       "model_id": "0049d5002fe644048f8621107ceccb7d"
      }
     },
     "metadata": {},
     "output_type": "display_data"
    },
    {
     "data": {
      "text/plain": "HBox(children=(HTML(value=''), FloatProgress(value=0.0, max=903.0), HTML(value='')))",
      "application/vnd.jupyter.widget-view+json": {
       "version_major": 2,
       "version_minor": 0,
       "model_id": "ea63ca3660c74d76943087fb4672bb29"
      }
     },
     "metadata": {},
     "output_type": "display_data"
    },
    {
     "data": {
      "text/plain": "HBox(children=(HTML(value=''), FloatProgress(value=0.0, max=903.0), HTML(value='')))",
      "application/vnd.jupyter.widget-view+json": {
       "version_major": 2,
       "version_minor": 0,
       "model_id": "17e20ead8eb04ee7b4788a876bece5a6"
      }
     },
     "metadata": {},
     "output_type": "display_data"
    },
    {
     "data": {
      "text/plain": "HBox(children=(HTML(value=''), FloatProgress(value=0.0, max=903.0), HTML(value='')))",
      "application/vnd.jupyter.widget-view+json": {
       "version_major": 2,
       "version_minor": 0,
       "model_id": "a36090585c6d491591d3a2ea1ca4eae5"
      }
     },
     "metadata": {},
     "output_type": "display_data"
    },
    {
     "data": {
      "text/plain": "HBox(children=(HTML(value=''), FloatProgress(value=0.0, max=903.0), HTML(value='')))",
      "application/vnd.jupyter.widget-view+json": {
       "version_major": 2,
       "version_minor": 0,
       "model_id": "c98b66109a4747ffbe5baee08d260d5e"
      }
     },
     "metadata": {},
     "output_type": "display_data"
    },
    {
     "data": {
      "text/plain": "HBox(children=(HTML(value=''), FloatProgress(value=0.0, max=903.0), HTML(value='')))",
      "application/vnd.jupyter.widget-view+json": {
       "version_major": 2,
       "version_minor": 0,
       "model_id": "837f2c7738f4484cbc374b300f43acb2"
      }
     },
     "metadata": {},
     "output_type": "display_data"
    },
    {
     "data": {
      "text/plain": "HBox(children=(HTML(value=''), FloatProgress(value=0.0, max=903.0), HTML(value='')))",
      "application/vnd.jupyter.widget-view+json": {
       "version_major": 2,
       "version_minor": 0,
       "model_id": "ddc6d5184967407abb7873fe93cb0f28"
      }
     },
     "metadata": {},
     "output_type": "display_data"
    },
    {
     "data": {
      "text/plain": "HBox(children=(HTML(value=''), FloatProgress(value=0.0, max=903.0), HTML(value='')))",
      "application/vnd.jupyter.widget-view+json": {
       "version_major": 2,
       "version_minor": 0,
       "model_id": "c4d806e82f9449059a0ec6ff1650b900"
      }
     },
     "metadata": {},
     "output_type": "display_data"
    },
    {
     "data": {
      "text/plain": "HBox(children=(HTML(value=''), FloatProgress(value=0.0, max=903.0), HTML(value='')))",
      "application/vnd.jupyter.widget-view+json": {
       "version_major": 2,
       "version_minor": 0,
       "model_id": "57661701c3dd483790cbb8b9d9d3414d"
      }
     },
     "metadata": {},
     "output_type": "display_data"
    },
    {
     "data": {
      "text/plain": "HBox(children=(HTML(value=''), FloatProgress(value=0.0, max=903.0), HTML(value='')))",
      "application/vnd.jupyter.widget-view+json": {
       "version_major": 2,
       "version_minor": 0,
       "model_id": "458cc27401d842c1ad00d435061383c7"
      }
     },
     "metadata": {},
     "output_type": "display_data"
    },
    {
     "data": {
      "text/plain": "HBox(children=(HTML(value=''), FloatProgress(value=0.0, max=903.0), HTML(value='')))",
      "application/vnd.jupyter.widget-view+json": {
       "version_major": 2,
       "version_minor": 0,
       "model_id": "91988d75f6be41d594cde7e94d428770"
      }
     },
     "metadata": {},
     "output_type": "display_data"
    },
    {
     "data": {
      "text/plain": "HBox(children=(HTML(value=''), FloatProgress(value=0.0, max=903.0), HTML(value='')))",
      "application/vnd.jupyter.widget-view+json": {
       "version_major": 2,
       "version_minor": 0,
       "model_id": "50dcd22be3194645862f3557a4273561"
      }
     },
     "metadata": {},
     "output_type": "display_data"
    }
   ],
   "source": [
    "# Model 3\n",
    "if False:\n",
    "    encoder = EncoderTransformer(vocab_size=source_vocab,\n",
    "                                 dim=hidden_size,\n",
    "                                 num_layers=enc_layers,\n",
    "                                 dropout=0.2)\n",
    "\n",
    "    decoder_encoder_self_attn = nnet_models_new.Decoder_SelfAttn(output_size=target_vocab,\n",
    "                                     hidden_size=hidden_size,\n",
    "                                     encoder_attention = True,\n",
    "                                     self_attention = True)\n",
    "\n",
    "    nmt_encoder_self_attn = nnet_models_new.seq2seq(encoder, decoder_encoder_self_attn,\n",
    "                                  lr = lr,\n",
    "                                  use_cuda = use_cuda,\n",
    "                                  hiddensize = hidden_size,\n",
    "                                  numlayers = hidden_size,\n",
    "                                  target_lang=dataset_dict['train'].target_lang_obj,\n",
    "                                  longest_label = longest_label,\n",
    "                                  clip = gradient_clip)\n",
    "\n",
    "    train_model(dataloader_dict, nmt_encoder_self_attn,\n",
    "                      num_epochs = 30,\n",
    "                      saved_model_path = saved_models_dir,\n",
    "                      enc_type = 'rnn_enc_self_attn')"
   ],
   "metadata": {
    "collapsed": false,
    "pycharm": {
     "name": "#%%\n"
    }
   }
  },
  {
   "cell_type": "code",
   "execution_count": 52,
   "outputs": [],
   "source": [
    "def plot_curves(loss, bleu, model_name):\n",
    "    import matplotlib.pyplot as plt\n",
    "\n",
    "    fig, ax1 = plt.subplots()\n",
    "    epochs = np.array(list(range(len(loss))))\n",
    "    ax1.plot(epochs, loss, label='Train loss',color = 'b')\n",
    "    ax1.set_ylabel('Train loss')\n",
    "\n",
    "    ax1.legend(loc='lower center')\n",
    "    ax2 = ax1.twinx()\n",
    "    ax2.plot(epochs,bleu,label = 'Val BLEU',color = 'r')\n",
    "    ax2.set_ylabel('Val BLEU')\n",
    "    ax2.legend(loc='upper center')\n",
    "    plt.title('Training loss and validation BLEU curves for {}'.format(model_name))\n",
    "    plt.show()"
   ],
   "metadata": {
    "collapsed": false,
    "pycharm": {
     "name": "#%%\n"
    }
   }
  },
  {
   "cell_type": "code",
   "execution_count": 54,
   "outputs": [
    {
     "data": {
      "text/plain": "<Figure size 432x288 with 2 Axes>",
      "image/png": "[encoded data removed]"
     },
     "metadata": {
      "needs_background": "light"
     },
     "output_type": "display_data"
    },
    {
     "data": {
      "text/plain": "<Figure size 432x288 with 2 Axes>",
      "image/png": "[encoded data removed]"
     },
     "metadata": {
      "needs_background": "light"
     },
     "output_type": "display_data"
    },
    {
     "data": {
      "text/plain": "<Figure size 432x288 with 2 Axes>",
      "image/png": "[encoded data removed]"
     },
     "metadata": {
      "needs_background": "light"
     },
     "output_type": "display_data"
    }
   ],
   "source": [
    "model_name = 'rnn_base'\n",
    "temp = pickle.load(open('/home/long/Desktop/DS1011_hw2/en2fr/nmt_enc_{}_dec_rnn_params.pth'.format(model_name), 'rb'))\n",
    "plot_curves(temp['train_loss'], temp['test_bleu'], model_name)\n",
    "\n",
    "model_name = 'rnn_enc_attn'\n",
    "temp = pickle.load(open('/home/long/Desktop/DS1011_hw2/en2fr/nmt_enc_{}_dec_rnn_params.pth'.format(model_name), 'rb'))\n",
    "plot_curves(temp['train_loss'], temp['test_bleu'], model_name)\n",
    "\n",
    "model_name = 'rnn_enc_self_attn'\n",
    "temp = pickle.load(open('/home/long/Desktop/DS1011_hw2/en2fr/nmt_enc_{}_dec_rnn_params.pth'.format(model_name), 'rb'))\n",
    "plot_curves(temp['train_loss'], temp['test_bleu'], model_name)"
   ],
   "metadata": {
    "collapsed": false,
    "pycharm": {
     "name": "#%%\n"
    }
   }
  },
  {
   "cell_type": "markdown",
   "metadata": {},
   "source": [
    "---\n",
    "### 2 Attention visualization (12 pts)"
   ]
  },
  {
   "cell_type": "code",
   "execution_count": null,
   "metadata": {},
   "outputs": [],
   "source": [
    "# Model was trained in ~2 hours, i.e. you can expect attention maps\n",
    "# to look quite 'hard' (less soft spreading) i.e. attending to some particular token in the input"
   ]
  },
  {
   "cell_type": "code",
   "execution_count": 66,
   "outputs": [],
   "source": [
    "from googletrans import Translator\n",
    "translator = Translator()\n",
    "\n",
    "import copy\n",
    "import numpy as np\n",
    "from collections import namedtuple\n",
    "\n",
    "import matplotlib.pyplot as plt\n",
    "import matplotlib.ticker as ticker\n",
    "%matplotlib inline\n",
    "\n",
    "\n",
    "def get_binned_bl_score(nmt_model, val_dataset):\n",
    "\n",
    "#     source_len = np.sort(np.array(val_dataset.main_df['source_len']))\n",
    "#     len_threshold = [0]+[source_len[x*1000+376] for x in range(1, 21)];\n",
    "#     len_threshold = np.unique(len_threshold)\n",
    "    len_threshold = np.arange(0, 31, 5)\n",
    "    bin_bl_score = np.zeros(len(len_threshold));\n",
    "\n",
    "    for i in notebook.tqdm(range(1, len(len_threshold)), total = len(len_threshold)-1):\n",
    "        min_len = len_threshold[i-1]\n",
    "#         min_len = 0\n",
    "        max_len = len_threshold[i]\n",
    "\n",
    "        temp_dataset = copy.deepcopy(val_dataset);\n",
    "        temp_dataset.main_df = temp_dataset.main_df[(temp_dataset.main_df['source_len'] > min_len) & (temp_dataset.main_df['source_len'] <= max_len)];\n",
    "        temp_loader = DataLoader(temp_dataset, batch_size = batchSize,\n",
    "                            collate_fn = partial(nmt_dataset.vocab_collate_func, MAX_LEN=100),\n",
    "                            shuffle = True, num_workers=0)\n",
    "\n",
    "        bin_bl_score[i] = nmt_model.get_bleu_score(temp_loader);\n",
    "\n",
    "\n",
    "    len_threshold = len_threshold[1:]\n",
    "    bin_bl_score = bin_bl_score[1:]\n",
    "\n",
    "    plt.plot(len_threshold, bin_bl_score, 'x-')\n",
    "    plt.ylim(0, np.max(bin_bl_score)+1)\n",
    "    plt.xlabel('len')\n",
    "    plt.ylabel('bl score')\n",
    "\n",
    "    return len_threshold, bin_bl_score\n",
    "\n",
    "def showAttention(input_sentence, output_words, attentions):\n",
    "    # Set up figure with colorbar\n",
    "    fig = plt.figure()\n",
    "    ax = fig.add_subplot(111)\n",
    "    cax = ax.matshow(attentions, cmap='bone', aspect='auto')\n",
    "    fig.colorbar(cax)\n",
    "\n",
    "    # Set up axes\n",
    "    ax.set_xticklabels([''] + input_sentence.split(' ') +\n",
    "                       [global_variables.EOS_TOKEN], rotation=90)\n",
    "    ax.set_yticklabels([''] + output_words.split(' ')+\n",
    "                       [global_variables.EOS_TOKEN]);\n",
    "\n",
    "    # Show label at every tick\n",
    "    ax.xaxis.set_major_locator(ticker.MultipleLocator(1))\n",
    "    ax.yaxis.set_major_locator(ticker.MultipleLocator(1))\n",
    "\n",
    "    plt.show()\n",
    "\n",
    "def get_encoded_batch(sentence, lang_obj, use_cuda):\n",
    "    \"\"\" accepts only bsz = 1.\n",
    "        input: one sentence as a string\n",
    "        output: named tuple with vector and length\"\"\"\n",
    "\n",
    "    sentence = sentence + ' ' + global_variables.EOS_TOKEN;\n",
    "    tensor = source_lang_obj.txt2vec(sentence).unsqueeze(0)\n",
    "\n",
    "    device = torch.device('cuda') if use_cuda and torch.cuda.is_available() else torch.device('cpu');\n",
    "\n",
    "    named_returntuple = namedtuple('namedtuple', ['text_vecs', 'text_lens', 'label_vecs', 'label_lens', 'use_packed'])\n",
    "    return_tuple = named_returntuple( tensor.to(device),\n",
    "                                     torch.from_numpy(np.array([tensor.shape[-1]])).to(device),\n",
    "                                     None,\n",
    "                                     None,\n",
    "                                     False );\n",
    "\n",
    "    return return_tuple\n",
    "\n",
    "def get_translation(nmt_model, sentence, lang_obj, use_cuda):\n",
    "    print('source: ', sentence)\n",
    "    batch = get_encoded_batch(sentence, lang_obj, use_cuda);\n",
    "    prediction, attn_scores_list = nmt_model.eval_step(batch, return_attn = True);\n",
    "    prediction = prediction[0];\n",
    "    print('prediction: ', prediction)\n",
    "    print('GT on sentence (src->tgt): ', translator.translate(sentence,\n",
    "                                                     src = source_name,\n",
    "                                                     dest = target_name).text)\n",
    "\n",
    "    print('GT on prediction (tgt->src): ', translator.translate(prediction,\n",
    "                                                     src = target_name,\n",
    "                                                     dest = source_name).text)\n",
    "\n",
    "    if attn_scores_list[0] is not None:\n",
    "        if attn_scores_list[0][0] is not None:\n",
    "            attn_matrix = [x[0].data.cpu().numpy() for x in attn_scores_list];\n",
    "            attn_matrix = np.stack(attn_matrix)[:,:, 0]\n",
    "            showAttention(sentence, prediction, attn_matrix)"
   ],
   "metadata": {
    "collapsed": false,
    "pycharm": {
     "name": "#%%\n"
    }
   }
  },
  {
   "cell_type": "code",
   "execution_count": 78,
   "outputs": [
    {
     "name": "stdout",
     "output_type": "stream",
     "text": [
      "===========================================================================\n",
      "source:  business expenses are tax deductible .\n",
      "prediction:  ces noms se sont les cheveux .\n",
      "GT on sentence (src->tgt):  frais professionnels sont déductibles d'impôt.\n",
      "GT on prediction (tgt->src):  these names have hair.\n",
      "===========================================================================\n",
      "source:  is this correct ?\n",
      "prediction:  est ce la ?\n",
      "GT on sentence (src->tgt):  est-ce correct ?\n",
      "GT on prediction (tgt->src):  is what the?\n",
      "===========================================================================\n",
      "source:  promise me you ll be careful .\n",
      "prediction:  promettez moi que vous ne serez pas prudent .\n",
      "GT on sentence (src->tgt):  Promets-moi que vous serez prudent.\n",
      "GT on prediction (tgt->src):  promise me that you will not be careful.\n",
      "===========================================================================\n"
     ]
    }
   ],
   "source": [
    "# Model 1\n",
    "nmt_encoder_base = torch.load(get_full_filepath(saved_models_dir, 'rnn_base'))\n",
    "\n",
    "print('=' * 75)\n",
    "get_translation(nmt_encoder_base, 'business expenses are tax deductible .', source_lang_obj, use_cuda)\n",
    "print('=' * 75)\n",
    "get_translation(nmt_encoder_base, 'is this correct ?', source_lang_obj, use_cuda)\n",
    "print('=' * 75)\n",
    "get_translation(nmt_encoder_base, 'promise me you ll be careful .', source_lang_obj, use_cuda)\n",
    "print('=' * 75)"
   ],
   "metadata": {
    "collapsed": false,
    "pycharm": {
     "name": "#%%\n"
    }
   }
  },
  {
   "cell_type": "code",
   "execution_count": 76,
   "outputs": [
    {
     "name": "stdout",
     "output_type": "stream",
     "text": [
      "===========================================================================\n",
      "source:  business expenses are tax deductible .\n",
      "prediction:  les affaires de tout le monde sont les aliments que les autres sont des animaux .\n",
      "GT on sentence (src->tgt):  frais professionnels sont déductibles d'impôt.\n",
      "GT on prediction (tgt->src):  the business of everyone are the foods that others are animals.\n",
      "===========================================================================\n",
      "source:  is this correct ?\n",
      "prediction:  ce n est pas juste ce tableau ?\n",
      "GT on sentence (src->tgt):  est-ce correct ?\n",
      "GT on prediction (tgt->src):  this is not just the picture?\n",
      "===========================================================================\n",
      "source:  promise me you ll be careful .\n",
      "prediction:  promets moi que tu seras prudent !\n",
      "GT on sentence (src->tgt):  Promets-moi que vous serez prudent.\n",
      "GT on prediction (tgt->src):  promise me you'll be careful!\n",
      "===========================================================================\n"
     ]
    },
    {
     "name": "stderr",
     "output_type": "stream",
     "text": [
      "<ipython-input-66-8c74b2a809ba>:53: UserWarning: FixedFormatter should only be used together with FixedLocator\n",
      "  ax.set_xticklabels([''] + input_sentence.split(' ') +\n",
      "<ipython-input-66-8c74b2a809ba>:55: UserWarning: FixedFormatter should only be used together with FixedLocator\n",
      "  ax.set_yticklabels([''] + output_words.split(' ')+\n"
     ]
    },
    {
     "data": {
      "text/plain": "<Figure size 432x288 with 2 Axes>",
      "image/png": "[encoded data removed]"
     },
     "metadata": {
      "needs_background": "light"
     },
     "output_type": "display_data"
    },
    {
     "data": {
      "text/plain": "<Figure size 432x288 with 2 Axes>",
      "image/png": "[encoded data removed]"
     },
     "metadata": {
      "needs_background": "light"
     },
     "output_type": "display_data"
    },
    {
     "data": {
      "text/plain": "<Figure size 432x288 with 2 Axes>",
      "image/png": "[encoded data removed]"
     },
     "metadata": {
      "needs_background": "light"
     },
     "output_type": "display_data"
    }
   ],
   "source": [
    "# Model 2\n",
    "nmt_encoder_enc_attn = torch.load(get_full_filepath(saved_models_dir, 'rnn_enc_attn'))\n",
    "\n",
    "print('=' * 75)\n",
    "get_translation(nmt_encoder_enc_attn, 'business expenses are tax deductible .', source_lang_obj, use_cuda)\n",
    "print('=' * 75)\n",
    "get_translation(nmt_encoder_enc_attn, 'is this correct ?', source_lang_obj, use_cuda)\n",
    "print('=' * 75)\n",
    "get_translation(nmt_encoder_enc_attn, 'promise me you ll be careful .', source_lang_obj, use_cuda)\n",
    "print('=' * 75)"
   ],
   "metadata": {
    "collapsed": false,
    "pycharm": {
     "name": "#%%\n"
    }
   }
  },
  {
   "cell_type": "code",
   "execution_count": 77,
   "outputs": [
    {
     "name": "stdout",
     "output_type": "stream",
     "text": [
      "===========================================================================\n",
      "source:  business expenses are tax deductible .\n",
      "prediction:  les affaires sont des faits de la population .\n",
      "GT on sentence (src->tgt):  frais professionnels sont déductibles d'impôt.\n",
      "GT on prediction (tgt->src):  business are facts of the population.\n",
      "===========================================================================\n",
      "source:  is this correct ?\n",
      "prediction:  est ce que c est que ce que le spectacle est en train de se faire du souci ?\n",
      "GT on sentence (src->tgt):  est-ce correct ?\n",
      "GT on prediction (tgt->src):  is what it is what the show is about to be worried?\n",
      "===========================================================================\n",
      "source:  promise me you ll be careful .\n",
      "prediction:  promets moi que tu seras prudente !\n",
      "GT on sentence (src->tgt):  Promets-moi que vous serez prudent.\n",
      "GT on prediction (tgt->src):  promise me you'll be careful!\n",
      "===========================================================================\n"
     ]
    },
    {
     "name": "stderr",
     "output_type": "stream",
     "text": [
      "<ipython-input-66-8c74b2a809ba>:53: UserWarning: FixedFormatter should only be used together with FixedLocator\n",
      "  ax.set_xticklabels([''] + input_sentence.split(' ') +\n",
      "<ipython-input-66-8c74b2a809ba>:55: UserWarning: FixedFormatter should only be used together with FixedLocator\n",
      "  ax.set_yticklabels([''] + output_words.split(' ')+\n"
     ]
    },
    {
     "data": {
      "text/plain": "<Figure size 432x288 with 2 Axes>",
      "image/png": "[encoded data removed]"
     },
     "metadata": {
      "needs_background": "light"
     },
     "output_type": "display_data"
    },
    {
     "data": {
      "text/plain": "<Figure size 432x288 with 2 Axes>",
      "image/png": "[encoded data removed]"
     },
     "metadata": {
      "needs_background": "light"
     },
     "output_type": "display_data"
    },
    {
     "data": {
      "text/plain": "<Figure size 432x288 with 2 Axes>",
      "image/png": "[encoded data removed]"
     },
     "metadata": {
      "needs_background": "light"
     },
     "output_type": "display_data"
    }
   ],
   "source": [
    "# Model 3\n",
    "nmt_encoder_enc_self_attn = torch.load(get_full_filepath(saved_models_dir, 'rnn_enc_self_attn'))\n",
    "\n",
    "print('=' * 75)\n",
    "get_translation(nmt_encoder_enc_self_attn, 'business expenses are tax deductible .', source_lang_obj, use_cuda)\n",
    "print('=' * 75)\n",
    "get_translation(nmt_encoder_enc_self_attn, 'is this correct ?', source_lang_obj, use_cuda)\n",
    "print('=' * 75)\n",
    "get_translation(nmt_encoder_enc_self_attn, 'promise me you ll be careful .', source_lang_obj, use_cuda)\n",
    "print('=' * 75)"
   ],
   "metadata": {
    "collapsed": false,
    "pycharm": {
     "name": "#%%\n"
    }
   }
  },
  {
   "cell_type": "code",
   "execution_count": null,
   "outputs": [],
   "source": [],
   "metadata": {
    "collapsed": false,
    "pycharm": {
     "name": "#%%\n"
    }
   }
  }
 ],
 "metadata": {
  "kernelspec": {
   "display_name": "Python 3",
   "language": "python",
   "name": "python3"
  },
  "language_info": {
   "codemirror_mode": {
    "name": "ipython",
    "version": 3
   },
   "file_extension": ".py",
   "mimetype": "text/x-python",
   "name": "python",
   "nbconvert_exporter": "python",
   "pygments_lexer": "ipython3",
   "version": "3.8.3"
  }
 },
 "nbformat": 4,
 "nbformat_minor": 4
}